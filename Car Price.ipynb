{
 "cells": [
  {
   "cell_type": "code",
   "execution_count": 1,
   "metadata": {},
   "outputs": [],
   "source": [
    "# importing necessary library\n",
    "import pandas as pd\n",
    "import numpy as np\n",
    "import seaborn as sns\n",
    "from matplotlib import pyplot as plt\n",
    "import warnings\n",
    "warnings.filterwarnings('ignore')"
   ]
  },
  {
   "cell_type": "code",
   "execution_count": 2,
   "metadata": {},
   "outputs": [],
   "source": [
    "df=pd.read_csv('C:/Users/sande/OneDrive/Desktop/datasets/car data.csv')"
   ]
  },
  {
   "cell_type": "code",
   "execution_count": 3,
   "metadata": {},
   "outputs": [
    {
     "data": {
      "text/html": [
       "<div>\n",
       "<style scoped>\n",
       "    .dataframe tbody tr th:only-of-type {\n",
       "        vertical-align: middle;\n",
       "    }\n",
       "\n",
       "    .dataframe tbody tr th {\n",
       "        vertical-align: top;\n",
       "    }\n",
       "\n",
       "    .dataframe thead th {\n",
       "        text-align: right;\n",
       "    }\n",
       "</style>\n",
       "<table border=\"1\" class=\"dataframe\">\n",
       "  <thead>\n",
       "    <tr style=\"text-align: right;\">\n",
       "      <th></th>\n",
       "      <th>Car_Name</th>\n",
       "      <th>Year</th>\n",
       "      <th>Selling_Price</th>\n",
       "      <th>Present_Price</th>\n",
       "      <th>Kms_Driven</th>\n",
       "      <th>Fuel_Type</th>\n",
       "      <th>Seller_Type</th>\n",
       "      <th>Transmission</th>\n",
       "      <th>Owner</th>\n",
       "    </tr>\n",
       "  </thead>\n",
       "  <tbody>\n",
       "    <tr>\n",
       "      <th>0</th>\n",
       "      <td>ritz</td>\n",
       "      <td>2014</td>\n",
       "      <td>3.35</td>\n",
       "      <td>5.59</td>\n",
       "      <td>27000</td>\n",
       "      <td>Petrol</td>\n",
       "      <td>Dealer</td>\n",
       "      <td>Manual</td>\n",
       "      <td>0</td>\n",
       "    </tr>\n",
       "    <tr>\n",
       "      <th>1</th>\n",
       "      <td>sx4</td>\n",
       "      <td>2013</td>\n",
       "      <td>4.75</td>\n",
       "      <td>9.54</td>\n",
       "      <td>43000</td>\n",
       "      <td>Diesel</td>\n",
       "      <td>Dealer</td>\n",
       "      <td>Manual</td>\n",
       "      <td>0</td>\n",
       "    </tr>\n",
       "    <tr>\n",
       "      <th>2</th>\n",
       "      <td>ciaz</td>\n",
       "      <td>2017</td>\n",
       "      <td>7.25</td>\n",
       "      <td>9.85</td>\n",
       "      <td>6900</td>\n",
       "      <td>Petrol</td>\n",
       "      <td>Dealer</td>\n",
       "      <td>Manual</td>\n",
       "      <td>0</td>\n",
       "    </tr>\n",
       "    <tr>\n",
       "      <th>3</th>\n",
       "      <td>wagon r</td>\n",
       "      <td>2011</td>\n",
       "      <td>2.85</td>\n",
       "      <td>4.15</td>\n",
       "      <td>5200</td>\n",
       "      <td>Petrol</td>\n",
       "      <td>Dealer</td>\n",
       "      <td>Manual</td>\n",
       "      <td>0</td>\n",
       "    </tr>\n",
       "    <tr>\n",
       "      <th>4</th>\n",
       "      <td>swift</td>\n",
       "      <td>2014</td>\n",
       "      <td>4.60</td>\n",
       "      <td>6.87</td>\n",
       "      <td>42450</td>\n",
       "      <td>Diesel</td>\n",
       "      <td>Dealer</td>\n",
       "      <td>Manual</td>\n",
       "      <td>0</td>\n",
       "    </tr>\n",
       "  </tbody>\n",
       "</table>\n",
       "</div>"
      ],
      "text/plain": [
       "  Car_Name  Year  Selling_Price  Present_Price  Kms_Driven Fuel_Type  \\\n",
       "0     ritz  2014           3.35           5.59       27000    Petrol   \n",
       "1      sx4  2013           4.75           9.54       43000    Diesel   \n",
       "2     ciaz  2017           7.25           9.85        6900    Petrol   \n",
       "3  wagon r  2011           2.85           4.15        5200    Petrol   \n",
       "4    swift  2014           4.60           6.87       42450    Diesel   \n",
       "\n",
       "  Seller_Type Transmission  Owner  \n",
       "0      Dealer       Manual      0  \n",
       "1      Dealer       Manual      0  \n",
       "2      Dealer       Manual      0  \n",
       "3      Dealer       Manual      0  \n",
       "4      Dealer       Manual      0  "
      ]
     },
     "execution_count": 3,
     "metadata": {},
     "output_type": "execute_result"
    }
   ],
   "source": [
    "df.head()"
   ]
  },
  {
   "cell_type": "code",
   "execution_count": 4,
   "metadata": {},
   "outputs": [
    {
     "data": {
      "text/plain": [
       "(301, 9)"
      ]
     },
     "execution_count": 4,
     "metadata": {},
     "output_type": "execute_result"
    }
   ],
   "source": [
    "df.shape"
   ]
  },
  {
   "cell_type": "code",
   "execution_count": 5,
   "metadata": {},
   "outputs": [
    {
     "data": {
      "text/plain": [
       "Car_Name         0\n",
       "Year             0\n",
       "Selling_Price    0\n",
       "Present_Price    0\n",
       "Kms_Driven       0\n",
       "Fuel_Type        0\n",
       "Seller_Type      0\n",
       "Transmission     0\n",
       "Owner            0\n",
       "dtype: int64"
      ]
     },
     "execution_count": 5,
     "metadata": {},
     "output_type": "execute_result"
    }
   ],
   "source": [
    "# checkinmg null values\n",
    "df.isnull().sum()"
   ]
  },
  {
   "cell_type": "code",
   "execution_count": 6,
   "metadata": {},
   "outputs": [
    {
     "name": "stdout",
     "output_type": "stream",
     "text": [
      "<class 'pandas.core.frame.DataFrame'>\n",
      "RangeIndex: 301 entries, 0 to 300\n",
      "Data columns (total 9 columns):\n",
      " #   Column         Non-Null Count  Dtype  \n",
      "---  ------         --------------  -----  \n",
      " 0   Car_Name       301 non-null    object \n",
      " 1   Year           301 non-null    int64  \n",
      " 2   Selling_Price  301 non-null    float64\n",
      " 3   Present_Price  301 non-null    float64\n",
      " 4   Kms_Driven     301 non-null    int64  \n",
      " 5   Fuel_Type      301 non-null    object \n",
      " 6   Seller_Type    301 non-null    object \n",
      " 7   Transmission   301 non-null    object \n",
      " 8   Owner          301 non-null    int64  \n",
      "dtypes: float64(2), int64(3), object(4)\n",
      "memory usage: 21.3+ KB\n"
     ]
    }
   ],
   "source": [
    "df.info()"
   ]
  },
  {
   "cell_type": "code",
   "execution_count": 7,
   "metadata": {},
   "outputs": [],
   "source": [
    "# shuffling data to get data randomized\n",
    "df=df.sample(frac=1).reset_index(drop=True)"
   ]
  },
  {
   "cell_type": "code",
   "execution_count": 8,
   "metadata": {},
   "outputs": [],
   "source": [
    "# droping feature car name as its not giving much info\n",
    "df.drop('Car_Name',axis=1,inplace=True)"
   ]
  },
  {
   "cell_type": "code",
   "execution_count": 9,
   "metadata": {},
   "outputs": [
    {
     "data": {
      "text/html": [
       "<div>\n",
       "<style scoped>\n",
       "    .dataframe tbody tr th:only-of-type {\n",
       "        vertical-align: middle;\n",
       "    }\n",
       "\n",
       "    .dataframe tbody tr th {\n",
       "        vertical-align: top;\n",
       "    }\n",
       "\n",
       "    .dataframe thead th {\n",
       "        text-align: right;\n",
       "    }\n",
       "</style>\n",
       "<table border=\"1\" class=\"dataframe\">\n",
       "  <thead>\n",
       "    <tr style=\"text-align: right;\">\n",
       "      <th></th>\n",
       "      <th>Year</th>\n",
       "      <th>Selling_Price</th>\n",
       "      <th>Present_Price</th>\n",
       "      <th>Kms_Driven</th>\n",
       "      <th>Owner</th>\n",
       "    </tr>\n",
       "  </thead>\n",
       "  <tbody>\n",
       "    <tr>\n",
       "      <th>count</th>\n",
       "      <td>301.000000</td>\n",
       "      <td>301.000000</td>\n",
       "      <td>301.000000</td>\n",
       "      <td>301.000000</td>\n",
       "      <td>301.000000</td>\n",
       "    </tr>\n",
       "    <tr>\n",
       "      <th>mean</th>\n",
       "      <td>2013.627907</td>\n",
       "      <td>4.661296</td>\n",
       "      <td>7.628472</td>\n",
       "      <td>36947.205980</td>\n",
       "      <td>0.043189</td>\n",
       "    </tr>\n",
       "    <tr>\n",
       "      <th>std</th>\n",
       "      <td>2.891554</td>\n",
       "      <td>5.082812</td>\n",
       "      <td>8.644115</td>\n",
       "      <td>38886.883882</td>\n",
       "      <td>0.247915</td>\n",
       "    </tr>\n",
       "    <tr>\n",
       "      <th>min</th>\n",
       "      <td>2003.000000</td>\n",
       "      <td>0.100000</td>\n",
       "      <td>0.320000</td>\n",
       "      <td>500.000000</td>\n",
       "      <td>0.000000</td>\n",
       "    </tr>\n",
       "    <tr>\n",
       "      <th>25%</th>\n",
       "      <td>2012.000000</td>\n",
       "      <td>0.900000</td>\n",
       "      <td>1.200000</td>\n",
       "      <td>15000.000000</td>\n",
       "      <td>0.000000</td>\n",
       "    </tr>\n",
       "    <tr>\n",
       "      <th>50%</th>\n",
       "      <td>2014.000000</td>\n",
       "      <td>3.600000</td>\n",
       "      <td>6.400000</td>\n",
       "      <td>32000.000000</td>\n",
       "      <td>0.000000</td>\n",
       "    </tr>\n",
       "    <tr>\n",
       "      <th>75%</th>\n",
       "      <td>2016.000000</td>\n",
       "      <td>6.000000</td>\n",
       "      <td>9.900000</td>\n",
       "      <td>48767.000000</td>\n",
       "      <td>0.000000</td>\n",
       "    </tr>\n",
       "    <tr>\n",
       "      <th>max</th>\n",
       "      <td>2018.000000</td>\n",
       "      <td>35.000000</td>\n",
       "      <td>92.600000</td>\n",
       "      <td>500000.000000</td>\n",
       "      <td>3.000000</td>\n",
       "    </tr>\n",
       "  </tbody>\n",
       "</table>\n",
       "</div>"
      ],
      "text/plain": [
       "              Year  Selling_Price  Present_Price     Kms_Driven       Owner\n",
       "count   301.000000     301.000000     301.000000     301.000000  301.000000\n",
       "mean   2013.627907       4.661296       7.628472   36947.205980    0.043189\n",
       "std       2.891554       5.082812       8.644115   38886.883882    0.247915\n",
       "min    2003.000000       0.100000       0.320000     500.000000    0.000000\n",
       "25%    2012.000000       0.900000       1.200000   15000.000000    0.000000\n",
       "50%    2014.000000       3.600000       6.400000   32000.000000    0.000000\n",
       "75%    2016.000000       6.000000       9.900000   48767.000000    0.000000\n",
       "max    2018.000000      35.000000      92.600000  500000.000000    3.000000"
      ]
     },
     "execution_count": 9,
     "metadata": {},
     "output_type": "execute_result"
    }
   ],
   "source": [
    "df.describe()"
   ]
  },
  {
   "cell_type": "code",
   "execution_count": 10,
   "metadata": {},
   "outputs": [],
   "source": [
    "# finding categorical features\n",
    "def func(val):\n",
    "    l=[]\n",
    "    for i in val.columns:\n",
    "        if val[i].dtypes=='O':\n",
    "            re=val[i].unique()\n",
    "            l.append(re)\n",
    "    return l"
   ]
  },
  {
   "cell_type": "code",
   "execution_count": 11,
   "metadata": {},
   "outputs": [
    {
     "data": {
      "text/plain": [
       "[array(['Petrol', 'Diesel', 'CNG'], dtype=object),\n",
       " array(['Dealer', 'Individual'], dtype=object),\n",
       " array(['Manual', 'Automatic'], dtype=object)]"
      ]
     },
     "execution_count": 11,
     "metadata": {},
     "output_type": "execute_result"
    }
   ],
   "source": [
    "func(df)"
   ]
  },
  {
   "cell_type": "code",
   "execution_count": 12,
   "metadata": {},
   "outputs": [
    {
     "data": {
      "text/plain": [
       "Index(['Year', 'Selling_Price', 'Present_Price', 'Kms_Driven', 'Fuel_Type',\n",
       "       'Seller_Type', 'Transmission', 'Owner'],\n",
       "      dtype='object')"
      ]
     },
     "execution_count": 12,
     "metadata": {},
     "output_type": "execute_result"
    }
   ],
   "source": [
    "df.columns"
   ]
  },
  {
   "cell_type": "code",
   "execution_count": 13,
   "metadata": {},
   "outputs": [],
   "source": [
    "# creating new feature of current year\n",
    "df['Current_Year']=2022"
   ]
  },
  {
   "cell_type": "code",
   "execution_count": 14,
   "metadata": {},
   "outputs": [
    {
     "data": {
      "text/html": [
       "<div>\n",
       "<style scoped>\n",
       "    .dataframe tbody tr th:only-of-type {\n",
       "        vertical-align: middle;\n",
       "    }\n",
       "\n",
       "    .dataframe tbody tr th {\n",
       "        vertical-align: top;\n",
       "    }\n",
       "\n",
       "    .dataframe thead th {\n",
       "        text-align: right;\n",
       "    }\n",
       "</style>\n",
       "<table border=\"1\" class=\"dataframe\">\n",
       "  <thead>\n",
       "    <tr style=\"text-align: right;\">\n",
       "      <th></th>\n",
       "      <th>Year</th>\n",
       "      <th>Selling_Price</th>\n",
       "      <th>Present_Price</th>\n",
       "      <th>Kms_Driven</th>\n",
       "      <th>Fuel_Type</th>\n",
       "      <th>Seller_Type</th>\n",
       "      <th>Transmission</th>\n",
       "      <th>Owner</th>\n",
       "      <th>Current_Year</th>\n",
       "    </tr>\n",
       "  </thead>\n",
       "  <tbody>\n",
       "    <tr>\n",
       "      <th>0</th>\n",
       "      <td>2013</td>\n",
       "      <td>7.05</td>\n",
       "      <td>18.61</td>\n",
       "      <td>45000</td>\n",
       "      <td>Petrol</td>\n",
       "      <td>Dealer</td>\n",
       "      <td>Manual</td>\n",
       "      <td>0</td>\n",
       "      <td>2022</td>\n",
       "    </tr>\n",
       "    <tr>\n",
       "      <th>1</th>\n",
       "      <td>2014</td>\n",
       "      <td>4.40</td>\n",
       "      <td>7.13</td>\n",
       "      <td>34000</td>\n",
       "      <td>Petrol</td>\n",
       "      <td>Dealer</td>\n",
       "      <td>Manual</td>\n",
       "      <td>0</td>\n",
       "      <td>2022</td>\n",
       "    </tr>\n",
       "    <tr>\n",
       "      <th>2</th>\n",
       "      <td>2016</td>\n",
       "      <td>8.35</td>\n",
       "      <td>9.40</td>\n",
       "      <td>19434</td>\n",
       "      <td>Diesel</td>\n",
       "      <td>Dealer</td>\n",
       "      <td>Manual</td>\n",
       "      <td>0</td>\n",
       "      <td>2022</td>\n",
       "    </tr>\n",
       "    <tr>\n",
       "      <th>3</th>\n",
       "      <td>2015</td>\n",
       "      <td>0.40</td>\n",
       "      <td>0.55</td>\n",
       "      <td>6700</td>\n",
       "      <td>Petrol</td>\n",
       "      <td>Individual</td>\n",
       "      <td>Manual</td>\n",
       "      <td>0</td>\n",
       "      <td>2022</td>\n",
       "    </tr>\n",
       "    <tr>\n",
       "      <th>4</th>\n",
       "      <td>2015</td>\n",
       "      <td>5.80</td>\n",
       "      <td>7.71</td>\n",
       "      <td>25870</td>\n",
       "      <td>Petrol</td>\n",
       "      <td>Dealer</td>\n",
       "      <td>Manual</td>\n",
       "      <td>0</td>\n",
       "      <td>2022</td>\n",
       "    </tr>\n",
       "  </tbody>\n",
       "</table>\n",
       "</div>"
      ],
      "text/plain": [
       "   Year  Selling_Price  Present_Price  Kms_Driven Fuel_Type Seller_Type  \\\n",
       "0  2013           7.05          18.61       45000    Petrol      Dealer   \n",
       "1  2014           4.40           7.13       34000    Petrol      Dealer   \n",
       "2  2016           8.35           9.40       19434    Diesel      Dealer   \n",
       "3  2015           0.40           0.55        6700    Petrol  Individual   \n",
       "4  2015           5.80           7.71       25870    Petrol      Dealer   \n",
       "\n",
       "  Transmission  Owner  Current_Year  \n",
       "0       Manual      0          2022  \n",
       "1       Manual      0          2022  \n",
       "2       Manual      0          2022  \n",
       "3       Manual      0          2022  \n",
       "4       Manual      0          2022  "
      ]
     },
     "execution_count": 14,
     "metadata": {},
     "output_type": "execute_result"
    }
   ],
   "source": [
    "df.head()"
   ]
  },
  {
   "cell_type": "code",
   "execution_count": 15,
   "metadata": {},
   "outputs": [],
   "source": [
    "# Subtracting Year from Current Year to get how old car is available\n",
    "df['Num_Year']=df['Current_Year']-df['Year']"
   ]
  },
  {
   "cell_type": "code",
   "execution_count": 16,
   "metadata": {},
   "outputs": [
    {
     "data": {
      "text/html": [
       "<div>\n",
       "<style scoped>\n",
       "    .dataframe tbody tr th:only-of-type {\n",
       "        vertical-align: middle;\n",
       "    }\n",
       "\n",
       "    .dataframe tbody tr th {\n",
       "        vertical-align: top;\n",
       "    }\n",
       "\n",
       "    .dataframe thead th {\n",
       "        text-align: right;\n",
       "    }\n",
       "</style>\n",
       "<table border=\"1\" class=\"dataframe\">\n",
       "  <thead>\n",
       "    <tr style=\"text-align: right;\">\n",
       "      <th></th>\n",
       "      <th>Year</th>\n",
       "      <th>Selling_Price</th>\n",
       "      <th>Present_Price</th>\n",
       "      <th>Kms_Driven</th>\n",
       "      <th>Fuel_Type</th>\n",
       "      <th>Seller_Type</th>\n",
       "      <th>Transmission</th>\n",
       "      <th>Owner</th>\n",
       "      <th>Current_Year</th>\n",
       "      <th>Num_Year</th>\n",
       "    </tr>\n",
       "  </thead>\n",
       "  <tbody>\n",
       "    <tr>\n",
       "      <th>0</th>\n",
       "      <td>2013</td>\n",
       "      <td>7.05</td>\n",
       "      <td>18.61</td>\n",
       "      <td>45000</td>\n",
       "      <td>Petrol</td>\n",
       "      <td>Dealer</td>\n",
       "      <td>Manual</td>\n",
       "      <td>0</td>\n",
       "      <td>2022</td>\n",
       "      <td>9</td>\n",
       "    </tr>\n",
       "    <tr>\n",
       "      <th>1</th>\n",
       "      <td>2014</td>\n",
       "      <td>4.40</td>\n",
       "      <td>7.13</td>\n",
       "      <td>34000</td>\n",
       "      <td>Petrol</td>\n",
       "      <td>Dealer</td>\n",
       "      <td>Manual</td>\n",
       "      <td>0</td>\n",
       "      <td>2022</td>\n",
       "      <td>8</td>\n",
       "    </tr>\n",
       "    <tr>\n",
       "      <th>2</th>\n",
       "      <td>2016</td>\n",
       "      <td>8.35</td>\n",
       "      <td>9.40</td>\n",
       "      <td>19434</td>\n",
       "      <td>Diesel</td>\n",
       "      <td>Dealer</td>\n",
       "      <td>Manual</td>\n",
       "      <td>0</td>\n",
       "      <td>2022</td>\n",
       "      <td>6</td>\n",
       "    </tr>\n",
       "    <tr>\n",
       "      <th>3</th>\n",
       "      <td>2015</td>\n",
       "      <td>0.40</td>\n",
       "      <td>0.55</td>\n",
       "      <td>6700</td>\n",
       "      <td>Petrol</td>\n",
       "      <td>Individual</td>\n",
       "      <td>Manual</td>\n",
       "      <td>0</td>\n",
       "      <td>2022</td>\n",
       "      <td>7</td>\n",
       "    </tr>\n",
       "    <tr>\n",
       "      <th>4</th>\n",
       "      <td>2015</td>\n",
       "      <td>5.80</td>\n",
       "      <td>7.71</td>\n",
       "      <td>25870</td>\n",
       "      <td>Petrol</td>\n",
       "      <td>Dealer</td>\n",
       "      <td>Manual</td>\n",
       "      <td>0</td>\n",
       "      <td>2022</td>\n",
       "      <td>7</td>\n",
       "    </tr>\n",
       "  </tbody>\n",
       "</table>\n",
       "</div>"
      ],
      "text/plain": [
       "   Year  Selling_Price  Present_Price  Kms_Driven Fuel_Type Seller_Type  \\\n",
       "0  2013           7.05          18.61       45000    Petrol      Dealer   \n",
       "1  2014           4.40           7.13       34000    Petrol      Dealer   \n",
       "2  2016           8.35           9.40       19434    Diesel      Dealer   \n",
       "3  2015           0.40           0.55        6700    Petrol  Individual   \n",
       "4  2015           5.80           7.71       25870    Petrol      Dealer   \n",
       "\n",
       "  Transmission  Owner  Current_Year  Num_Year  \n",
       "0       Manual      0          2022         9  \n",
       "1       Manual      0          2022         8  \n",
       "2       Manual      0          2022         6  \n",
       "3       Manual      0          2022         7  \n",
       "4       Manual      0          2022         7  "
      ]
     },
     "execution_count": 16,
     "metadata": {},
     "output_type": "execute_result"
    }
   ],
   "source": [
    "df.head()"
   ]
  },
  {
   "cell_type": "code",
   "execution_count": 17,
   "metadata": {},
   "outputs": [],
   "source": [
    "# droping feature which are not required now\n",
    "df.drop(['Year','Current_Year'],axis=1,inplace=True)"
   ]
  },
  {
   "cell_type": "code",
   "execution_count": 18,
   "metadata": {},
   "outputs": [
    {
     "data": {
      "text/html": [
       "<div>\n",
       "<style scoped>\n",
       "    .dataframe tbody tr th:only-of-type {\n",
       "        vertical-align: middle;\n",
       "    }\n",
       "\n",
       "    .dataframe tbody tr th {\n",
       "        vertical-align: top;\n",
       "    }\n",
       "\n",
       "    .dataframe thead th {\n",
       "        text-align: right;\n",
       "    }\n",
       "</style>\n",
       "<table border=\"1\" class=\"dataframe\">\n",
       "  <thead>\n",
       "    <tr style=\"text-align: right;\">\n",
       "      <th></th>\n",
       "      <th>Selling_Price</th>\n",
       "      <th>Present_Price</th>\n",
       "      <th>Kms_Driven</th>\n",
       "      <th>Fuel_Type</th>\n",
       "      <th>Seller_Type</th>\n",
       "      <th>Transmission</th>\n",
       "      <th>Owner</th>\n",
       "      <th>Num_Year</th>\n",
       "    </tr>\n",
       "  </thead>\n",
       "  <tbody>\n",
       "    <tr>\n",
       "      <th>0</th>\n",
       "      <td>7.05</td>\n",
       "      <td>18.61</td>\n",
       "      <td>45000</td>\n",
       "      <td>Petrol</td>\n",
       "      <td>Dealer</td>\n",
       "      <td>Manual</td>\n",
       "      <td>0</td>\n",
       "      <td>9</td>\n",
       "    </tr>\n",
       "    <tr>\n",
       "      <th>1</th>\n",
       "      <td>4.40</td>\n",
       "      <td>7.13</td>\n",
       "      <td>34000</td>\n",
       "      <td>Petrol</td>\n",
       "      <td>Dealer</td>\n",
       "      <td>Manual</td>\n",
       "      <td>0</td>\n",
       "      <td>8</td>\n",
       "    </tr>\n",
       "    <tr>\n",
       "      <th>2</th>\n",
       "      <td>8.35</td>\n",
       "      <td>9.40</td>\n",
       "      <td>19434</td>\n",
       "      <td>Diesel</td>\n",
       "      <td>Dealer</td>\n",
       "      <td>Manual</td>\n",
       "      <td>0</td>\n",
       "      <td>6</td>\n",
       "    </tr>\n",
       "    <tr>\n",
       "      <th>3</th>\n",
       "      <td>0.40</td>\n",
       "      <td>0.55</td>\n",
       "      <td>6700</td>\n",
       "      <td>Petrol</td>\n",
       "      <td>Individual</td>\n",
       "      <td>Manual</td>\n",
       "      <td>0</td>\n",
       "      <td>7</td>\n",
       "    </tr>\n",
       "    <tr>\n",
       "      <th>4</th>\n",
       "      <td>5.80</td>\n",
       "      <td>7.71</td>\n",
       "      <td>25870</td>\n",
       "      <td>Petrol</td>\n",
       "      <td>Dealer</td>\n",
       "      <td>Manual</td>\n",
       "      <td>0</td>\n",
       "      <td>7</td>\n",
       "    </tr>\n",
       "  </tbody>\n",
       "</table>\n",
       "</div>"
      ],
      "text/plain": [
       "   Selling_Price  Present_Price  Kms_Driven Fuel_Type Seller_Type  \\\n",
       "0           7.05          18.61       45000    Petrol      Dealer   \n",
       "1           4.40           7.13       34000    Petrol      Dealer   \n",
       "2           8.35           9.40       19434    Diesel      Dealer   \n",
       "3           0.40           0.55        6700    Petrol  Individual   \n",
       "4           5.80           7.71       25870    Petrol      Dealer   \n",
       "\n",
       "  Transmission  Owner  Num_Year  \n",
       "0       Manual      0         9  \n",
       "1       Manual      0         8  \n",
       "2       Manual      0         6  \n",
       "3       Manual      0         7  \n",
       "4       Manual      0         7  "
      ]
     },
     "execution_count": 18,
     "metadata": {},
     "output_type": "execute_result"
    }
   ],
   "source": [
    "df.head()"
   ]
  },
  {
   "cell_type": "code",
   "execution_count": 19,
   "metadata": {},
   "outputs": [],
   "source": [
    "# Replacing the categorical values to numeric value\n",
    "df=pd.get_dummies(df,drop_first=True)"
   ]
  },
  {
   "cell_type": "code",
   "execution_count": 20,
   "metadata": {
    "scrolled": true
   },
   "outputs": [
    {
     "data": {
      "text/html": [
       "<div>\n",
       "<style scoped>\n",
       "    .dataframe tbody tr th:only-of-type {\n",
       "        vertical-align: middle;\n",
       "    }\n",
       "\n",
       "    .dataframe tbody tr th {\n",
       "        vertical-align: top;\n",
       "    }\n",
       "\n",
       "    .dataframe thead th {\n",
       "        text-align: right;\n",
       "    }\n",
       "</style>\n",
       "<table border=\"1\" class=\"dataframe\">\n",
       "  <thead>\n",
       "    <tr style=\"text-align: right;\">\n",
       "      <th></th>\n",
       "      <th>Selling_Price</th>\n",
       "      <th>Present_Price</th>\n",
       "      <th>Kms_Driven</th>\n",
       "      <th>Owner</th>\n",
       "      <th>Num_Year</th>\n",
       "      <th>Fuel_Type_Diesel</th>\n",
       "      <th>Fuel_Type_Petrol</th>\n",
       "      <th>Seller_Type_Individual</th>\n",
       "      <th>Transmission_Manual</th>\n",
       "    </tr>\n",
       "  </thead>\n",
       "  <tbody>\n",
       "    <tr>\n",
       "      <th>0</th>\n",
       "      <td>7.05</td>\n",
       "      <td>18.61</td>\n",
       "      <td>45000</td>\n",
       "      <td>0</td>\n",
       "      <td>9</td>\n",
       "      <td>0</td>\n",
       "      <td>1</td>\n",
       "      <td>0</td>\n",
       "      <td>1</td>\n",
       "    </tr>\n",
       "    <tr>\n",
       "      <th>1</th>\n",
       "      <td>4.40</td>\n",
       "      <td>7.13</td>\n",
       "      <td>34000</td>\n",
       "      <td>0</td>\n",
       "      <td>8</td>\n",
       "      <td>0</td>\n",
       "      <td>1</td>\n",
       "      <td>0</td>\n",
       "      <td>1</td>\n",
       "    </tr>\n",
       "    <tr>\n",
       "      <th>2</th>\n",
       "      <td>8.35</td>\n",
       "      <td>9.40</td>\n",
       "      <td>19434</td>\n",
       "      <td>0</td>\n",
       "      <td>6</td>\n",
       "      <td>1</td>\n",
       "      <td>0</td>\n",
       "      <td>0</td>\n",
       "      <td>1</td>\n",
       "    </tr>\n",
       "    <tr>\n",
       "      <th>3</th>\n",
       "      <td>0.40</td>\n",
       "      <td>0.55</td>\n",
       "      <td>6700</td>\n",
       "      <td>0</td>\n",
       "      <td>7</td>\n",
       "      <td>0</td>\n",
       "      <td>1</td>\n",
       "      <td>1</td>\n",
       "      <td>1</td>\n",
       "    </tr>\n",
       "    <tr>\n",
       "      <th>4</th>\n",
       "      <td>5.80</td>\n",
       "      <td>7.71</td>\n",
       "      <td>25870</td>\n",
       "      <td>0</td>\n",
       "      <td>7</td>\n",
       "      <td>0</td>\n",
       "      <td>1</td>\n",
       "      <td>0</td>\n",
       "      <td>1</td>\n",
       "    </tr>\n",
       "  </tbody>\n",
       "</table>\n",
       "</div>"
      ],
      "text/plain": [
       "   Selling_Price  Present_Price  Kms_Driven  Owner  Num_Year  \\\n",
       "0           7.05          18.61       45000      0         9   \n",
       "1           4.40           7.13       34000      0         8   \n",
       "2           8.35           9.40       19434      0         6   \n",
       "3           0.40           0.55        6700      0         7   \n",
       "4           5.80           7.71       25870      0         7   \n",
       "\n",
       "   Fuel_Type_Diesel  Fuel_Type_Petrol  Seller_Type_Individual  \\\n",
       "0                 0                 1                       0   \n",
       "1                 0                 1                       0   \n",
       "2                 1                 0                       0   \n",
       "3                 0                 1                       1   \n",
       "4                 0                 1                       0   \n",
       "\n",
       "   Transmission_Manual  \n",
       "0                    1  \n",
       "1                    1  \n",
       "2                    1  \n",
       "3                    1  \n",
       "4                    1  "
      ]
     },
     "execution_count": 20,
     "metadata": {},
     "output_type": "execute_result"
    }
   ],
   "source": [
    "df.head()"
   ]
  },
  {
   "cell_type": "code",
   "execution_count": 21,
   "metadata": {},
   "outputs": [
    {
     "data": {
      "image/png": "[encoded data removed]",
      "text/plain": [
       "<Figure size 720x720 with 2 Axes>"
      ]
     },
     "metadata": {
      "needs_background": "light"
     },
     "output_type": "display_data"
    }
   ],
   "source": [
    "# lets check the correlation between features\n",
    "plt.figure(figsize=(10,10))\n",
    "sns.heatmap(df.corr(),annot=True)\n",
    "plt.show()"
   ]
  },
  {
   "cell_type": "markdown",
   "metadata": {},
   "source": [
    "As we can see the feature Fuel_Type_Diesel and Fuel_Type_Petrol are highly negatively correlated to each other we can remove one feature among them as we have multicollinearity but as we can see feature are very less so not dropping in this case "
   ]
  },
  {
   "cell_type": "code",
   "execution_count": 22,
   "metadata": {},
   "outputs": [
    {
     "data": {
      "text/html": [
       "<div>\n",
       "<style scoped>\n",
       "    .dataframe tbody tr th:only-of-type {\n",
       "        vertical-align: middle;\n",
       "    }\n",
       "\n",
       "    .dataframe tbody tr th {\n",
       "        vertical-align: top;\n",
       "    }\n",
       "\n",
       "    .dataframe thead th {\n",
       "        text-align: right;\n",
       "    }\n",
       "</style>\n",
       "<table border=\"1\" class=\"dataframe\">\n",
       "  <thead>\n",
       "    <tr style=\"text-align: right;\">\n",
       "      <th></th>\n",
       "      <th>Present_Price</th>\n",
       "      <th>Kms_Driven</th>\n",
       "      <th>Owner</th>\n",
       "      <th>Num_Year</th>\n",
       "      <th>Fuel_Type_Diesel</th>\n",
       "      <th>Fuel_Type_Petrol</th>\n",
       "      <th>Seller_Type_Individual</th>\n",
       "      <th>Transmission_Manual</th>\n",
       "    </tr>\n",
       "  </thead>\n",
       "  <tbody>\n",
       "    <tr>\n",
       "      <th>0</th>\n",
       "      <td>18.61</td>\n",
       "      <td>45000</td>\n",
       "      <td>0</td>\n",
       "      <td>9</td>\n",
       "      <td>0</td>\n",
       "      <td>1</td>\n",
       "      <td>0</td>\n",
       "      <td>1</td>\n",
       "    </tr>\n",
       "    <tr>\n",
       "      <th>1</th>\n",
       "      <td>7.13</td>\n",
       "      <td>34000</td>\n",
       "      <td>0</td>\n",
       "      <td>8</td>\n",
       "      <td>0</td>\n",
       "      <td>1</td>\n",
       "      <td>0</td>\n",
       "      <td>1</td>\n",
       "    </tr>\n",
       "    <tr>\n",
       "      <th>2</th>\n",
       "      <td>9.40</td>\n",
       "      <td>19434</td>\n",
       "      <td>0</td>\n",
       "      <td>6</td>\n",
       "      <td>1</td>\n",
       "      <td>0</td>\n",
       "      <td>0</td>\n",
       "      <td>1</td>\n",
       "    </tr>\n",
       "    <tr>\n",
       "      <th>3</th>\n",
       "      <td>0.55</td>\n",
       "      <td>6700</td>\n",
       "      <td>0</td>\n",
       "      <td>7</td>\n",
       "      <td>0</td>\n",
       "      <td>1</td>\n",
       "      <td>1</td>\n",
       "      <td>1</td>\n",
       "    </tr>\n",
       "    <tr>\n",
       "      <th>4</th>\n",
       "      <td>7.71</td>\n",
       "      <td>25870</td>\n",
       "      <td>0</td>\n",
       "      <td>7</td>\n",
       "      <td>0</td>\n",
       "      <td>1</td>\n",
       "      <td>0</td>\n",
       "      <td>1</td>\n",
       "    </tr>\n",
       "  </tbody>\n",
       "</table>\n",
       "</div>"
      ],
      "text/plain": [
       "   Present_Price  Kms_Driven  Owner  Num_Year  Fuel_Type_Diesel  \\\n",
       "0          18.61       45000      0         9                 0   \n",
       "1           7.13       34000      0         8                 0   \n",
       "2           9.40       19434      0         6                 1   \n",
       "3           0.55        6700      0         7                 0   \n",
       "4           7.71       25870      0         7                 0   \n",
       "\n",
       "   Fuel_Type_Petrol  Seller_Type_Individual  Transmission_Manual  \n",
       "0                 1                       0                    1  \n",
       "1                 1                       0                    1  \n",
       "2                 0                       0                    1  \n",
       "3                 1                       1                    1  \n",
       "4                 1                       0                    1  "
      ]
     },
     "execution_count": 22,
     "metadata": {},
     "output_type": "execute_result"
    }
   ],
   "source": [
    "# independent feature\n",
    "x=df.iloc[:,1:]\n",
    "x.head()"
   ]
  },
  {
   "cell_type": "code",
   "execution_count": 23,
   "metadata": {},
   "outputs": [
    {
     "data": {
      "text/plain": [
       "0    7.05\n",
       "1    4.40\n",
       "2    8.35\n",
       "3    0.40\n",
       "4    5.80\n",
       "Name: Selling_Price, dtype: float64"
      ]
     },
     "execution_count": 23,
     "metadata": {},
     "output_type": "execute_result"
    }
   ],
   "source": [
    "# dependent feature\n",
    "y=df.iloc[:,0]\n",
    "y.head()"
   ]
  },
  {
   "cell_type": "code",
   "execution_count": 24,
   "metadata": {},
   "outputs": [
    {
     "data": {
      "text/plain": [
       "(301, 8)"
      ]
     },
     "execution_count": 24,
     "metadata": {},
     "output_type": "execute_result"
    }
   ],
   "source": [
    "x.shape"
   ]
  },
  {
   "cell_type": "code",
   "execution_count": 25,
   "metadata": {},
   "outputs": [
    {
     "data": {
      "text/plain": [
       "(301,)"
      ]
     },
     "execution_count": 25,
     "metadata": {},
     "output_type": "execute_result"
    }
   ],
   "source": [
    "y.shape"
   ]
  },
  {
   "cell_type": "code",
   "execution_count": 26,
   "metadata": {},
   "outputs": [],
   "source": [
    "from sklearn.model_selection import cross_val_score,KFold\n",
    "from sklearn.metrics import r2_score,mean_absolute_error,mean_squared_error"
   ]
  },
  {
   "cell_type": "code",
   "execution_count": 27,
   "metadata": {},
   "outputs": [],
   "source": [
    "# kfold cross validation\n",
    "n=KFold(5)"
   ]
  },
  {
   "cell_type": "code",
   "execution_count": 28,
   "metadata": {},
   "outputs": [],
   "source": [
    "from sklearn.linear_model import LinearRegression\n",
    "from sklearn.linear_model import Ridge\n",
    "from sklearn.ensemble import RandomForestRegressor\n",
    "from sklearn.ensemble import ExtraTreesRegressor\n",
    "from sklearn.tree import DecisionTreeRegressor"
   ]
  },
  {
   "cell_type": "code",
   "execution_count": 29,
   "metadata": {},
   "outputs": [],
   "source": [
    "# applying cross validation to get accuracy of all models\n",
    "def func(algo):\n",
    "    scores=cross_val_score(algo,x,y,cv=n)\n",
    "    print('Accuracy: ',scores)\n",
    "    print('Average Accuracy: ',np.mean(scores))"
   ]
  },
  {
   "cell_type": "code",
   "execution_count": 30,
   "metadata": {},
   "outputs": [
    {
     "name": "stdout",
     "output_type": "stream",
     "text": [
      "Accuracy:  [0.90650777 0.8165983  0.81149792 0.81632251 0.79712555]\n",
      "Average Accuracy:  0.8296104084957105\n"
     ]
    }
   ],
   "source": [
    "func(Ridge())"
   ]
  },
  {
   "cell_type": "code",
   "execution_count": 31,
   "metadata": {},
   "outputs": [
    {
     "name": "stdout",
     "output_type": "stream",
     "text": [
      "Accuracy:  [0.95955333 0.81217028 0.96253754 0.79970903 0.92134663]\n",
      "Average Accuracy:  0.8910633604489883\n"
     ]
    }
   ],
   "source": [
    "func(DecisionTreeRegressor())"
   ]
  },
  {
   "cell_type": "code",
   "execution_count": 32,
   "metadata": {},
   "outputs": [
    {
     "name": "stdout",
     "output_type": "stream",
     "text": [
      "Accuracy:  [0.97287219 0.90911663 0.97787749 0.79115453 0.92097586]\n",
      "Average Accuracy:  0.9143993384416719\n"
     ]
    }
   ],
   "source": [
    "func(ExtraTreesRegressor())"
   ]
  },
  {
   "cell_type": "code",
   "execution_count": 33,
   "metadata": {},
   "outputs": [
    {
     "name": "stdout",
     "output_type": "stream",
     "text": [
      "Accuracy:  [0.90613454 0.81675636 0.81038614 0.81912726 0.79416727]\n",
      "Average Accuracy:  0.8293143148015124\n"
     ]
    }
   ],
   "source": [
    "func(LinearRegression())"
   ]
  },
  {
   "cell_type": "code",
   "execution_count": 34,
   "metadata": {},
   "outputs": [
    {
     "name": "stdout",
     "output_type": "stream",
     "text": [
      "Accuracy:  [0.97292908 0.85188356 0.97573275 0.87350888 0.94145714]\n",
      "Average Accuracy:  0.9231022800725717\n"
     ]
    }
   ],
   "source": [
    "func(RandomForestRegressor())"
   ]
  },
  {
   "cell_type": "markdown",
   "metadata": {},
   "source": [
    "Random Forest, Decision Tree and Extra tree Regressor gives the highest accuracy so we choose this model."
   ]
  },
  {
   "cell_type": "code",
   "execution_count": 78,
   "metadata": {},
   "outputs": [],
   "source": [
    "# Finding average error at each iteration \n",
    "dtcv=[]\n",
    "etcv=[]\n",
    "rfcv=[]\n",
    "for i in range(10):\n",
    "    dtcv.append(-cross_val_score(DecisionTreeRegressor(),x,y,cv=n,scoring='neg_mean_squared_error').mean())\n",
    "    etcv.append(-cross_val_score(ExtraTreesRegressor(),x,y,cv=n,scoring='neg_mean_squared_error').mean())\n",
    "    rfcv.append(-cross_val_score(RandomForestRegressor(),x,y,cv=n,scoring='neg_mean_squared_error').mean())"
   ]
  },
  {
   "cell_type": "code",
   "execution_count": 79,
   "metadata": {},
   "outputs": [
    {
     "data": {
      "image/png": "[encoded data removed]",
      "text/plain": [
       "<Figure size 432x288 with 1 Axes>"
      ]
     },
     "metadata": {
      "needs_background": "light"
     },
     "output_type": "display_data"
    }
   ],
   "source": [
    "plt.plot(dtcv,'-ro',label='DT')\n",
    "plt.plot(etcv,'-b.',label='ET')\n",
    "plt.plot(rfcv,'-k+',label='RF')\n",
    "plt.xlabel('Iteration Number')\n",
    "plt.ylabel('Cross validation error')\n",
    "plt.legend(loc='best')\n",
    "plt.show()"
   ]
  },
  {
   "cell_type": "markdown",
   "metadata": {},
   "source": [
    "As we can see Random Forest Regressor has the least error among all models so we choose Random Forest as the best model"
   ]
  },
  {
   "cell_type": "code",
   "execution_count": 37,
   "metadata": {},
   "outputs": [],
   "source": [
    "# function to get model accuracy with model name\n",
    "def get_score(model,x_train,x_test,y_train,y_test):\n",
    "    model.fit(x_train,y_train)\n",
    "    return model.score(x_test,y_test)"
   ]
  },
  {
   "cell_type": "code",
   "execution_count": 38,
   "metadata": {},
   "outputs": [],
   "source": [
    "# Train test split\n",
    "score_rf=[]\n",
    "for train_index,test_index in n.split(x):\n",
    "    x_train,x_test=x.iloc[train_index],x.iloc[test_index]\n",
    "    y_train,y_test=y[train_index],y[test_index]\n",
    "    score_rf.append(get_score(RandomForestRegressor(),x_train,x_test,y_train,y_test))"
   ]
  },
  {
   "cell_type": "code",
   "execution_count": 39,
   "metadata": {},
   "outputs": [
    {
     "data": {
      "text/plain": [
       "([0.9750546057832729,\n",
       "  0.8435390428382664,\n",
       "  0.9769087598376398,\n",
       "  0.8702256393869963,\n",
       "  0.9351222017262122],\n",
       " 0.9201700499144776)"
      ]
     },
     "execution_count": 39,
     "metadata": {},
     "output_type": "execute_result"
    }
   ],
   "source": [
    "score_rf, np.mean(score_rf)"
   ]
  },
  {
   "cell_type": "code",
   "execution_count": 40,
   "metadata": {},
   "outputs": [
    {
     "data": {
      "text/plain": [
       "array([ 8.0545,  2.776 ,  6.384 ,  0.5866,  2.9175,  2.403 ,  0.7635,\n",
       "        2.7495,  0.4513,  3.9788,  7.8543,  0.1733,  6.831 ,  2.9455,\n",
       "        3.0201,  4.489 ,  3.486 ,  4.8831,  6.4811,  2.47  ,  4.6285,\n",
       "        4.751 ,  4.7915,  1.2735,  0.5592,  2.984 ,  4.392 ,  0.4664,\n",
       "        3.351 ,  1.1535,  5.2268,  5.435 ,  1.1535,  2.465 ,  5.3195,\n",
       "        3.8921,  4.1425,  1.1   , 16.4844, 17.318 ,  4.857 ,  5.3395,\n",
       "        6.8615,  7.6935,  3.7365,  1.1245,  0.3867,  1.0685,  0.3914,\n",
       "        3.4029,  0.775 ,  7.8854,  0.3622,  5.509 ,  7.7707,  1.4215,\n",
       "        6.7135,  6.422 ,  0.4534,  0.7467])"
      ]
     },
     "execution_count": 40,
     "metadata": {},
     "output_type": "execute_result"
    }
   ],
   "source": [
    "# fitting training data into model \n",
    "rf=RandomForestRegressor()\n",
    "rf.fit(x_train,y_train)\n",
    "pred=rf.predict(x_test)  # predicting values for test data\n",
    "pred"
   ]
  },
  {
   "cell_type": "code",
   "execution_count": 41,
   "metadata": {},
   "outputs": [
    {
     "data": {
      "text/plain": [
       "array([ 6.9835,  4.262 ,  8.3774,  0.4122,  5.801 ,  2.752 ,  0.1489,\n",
       "        0.4111, 16.4726,  8.332 ,  4.208 ,  4.8298,  1.1915,  4.543 ,\n",
       "        5.8847,  0.3769,  6.464 , 10.411 ,  2.4945,  0.2492,  8.913 ,\n",
       "        4.8495,  1.177 ,  2.9025,  5.6655,  0.5951,  5.386 ,  2.623 ,\n",
       "        4.6295,  0.6206, 17.0487,  4.6435,  0.5957,  0.3392,  0.2669,\n",
       "        1.497 ,  7.5725,  2.9455,  0.2516,  5.815 ,  1.6535,  9.077 ,\n",
       "        5.865 ,  0.4728,  1.0965, 10.0945, 11.5069,  1.1345,  7.0535,\n",
       "        0.5793,  2.3686,  0.2185, 23.2813,  0.4299,  6.8945,  4.1525,\n",
       "        3.9545,  4.9375,  4.2505,  5.0005,  0.6785,  4.944 , 30.245 ,\n",
       "        3.0015,  2.3445,  0.5633,  6.7315,  5.7655,  5.1809,  0.6057,\n",
       "        2.915 ,  5.1856,  1.544 ,  1.2025,  3.2975,  0.7815,  0.7528,\n",
       "        0.6163,  8.766 ,  2.481 ,  5.5655,  4.1625,  9.2751,  4.5234,\n",
       "        7.955 ,  2.8175,  7.8015,  8.8685,  9.9635,  0.4392,  3.8138,\n",
       "        2.8965,  0.713 ,  5.5445, 13.6854,  8.976 ,  6.008 ,  0.7047,\n",
       "        0.4159,  5.948 ,  4.463 ,  4.0695,  5.7992,  5.264 ,  0.3495,\n",
       "        2.2811,  6.9335,  5.3375,  5.3945,  9.5837,  9.549 ,  3.3455,\n",
       "       10.633 ,  4.5175,  8.7265,  8.7435,  1.056 ,  0.5149,  0.9909,\n",
       "        5.07  , 20.2904,  2.614 ,  0.6535,  0.7334,  4.3666,  1.4885,\n",
       "        1.128 ,  8.536 , 22.2295,  2.371 ,  2.83  ,  5.7235,  4.9545,\n",
       "        3.6526,  0.2028,  3.874 ,  8.3065,  0.2707,  6.7335,  7.8854,\n",
       "        0.3793,  3.7025,  3.606 , 22.9274,  6.295 ,  0.5665,  0.4821,\n",
       "        2.2015,  0.5347,  5.073 ,  1.157 ,  8.656 ,  6.0884,  0.5445,\n",
       "        1.0385,  0.2165,  5.3525, 11.1701,  6.3237,  0.4534,  0.4655,\n",
       "        3.3527,  2.899 ,  0.2655,  0.4679, 10.1899,  5.2297,  0.4424,\n",
       "        1.6045,  3.1652,  3.8485,  1.288 ,  0.6734,  0.4684, 16.3031,\n",
       "        3.5316,  0.2792,  1.193 ,  3.685 ,  0.2746,  0.1889,  9.6225,\n",
       "       16.8115,  0.4882, 30.4152,  3.046 ,  1.0295,  5.5425,  0.2889,\n",
       "       12.339 ,  5.1826,  5.4055,  7.0305,  0.2449,  0.1834,  0.1788,\n",
       "        9.0628,  2.4775, 11.72  , 22.9274, 20.7838,  0.4513,  2.8955,\n",
       "        1.359 ,  5.0295,  5.4725,  0.176 ,  6.036 , 10.6615,  0.521 ,\n",
       "        0.1451,  4.469 ,  4.715 ,  7.3474,  0.3756, 19.3543,  2.9855,\n",
       "        5.1655,  0.4505, 14.5742,  5.679 ,  6.2155,  5.4377,  0.549 ,\n",
       "        0.9473,  0.4468,  0.2607, 10.7913,  0.5743,  3.995 ,  0.9635,\n",
       "        3.9682,  3.0175,  3.6605,  4.141 ,  6.5765,  1.6375,  5.774 ,\n",
       "        0.4028,  7.2849,  3.3455])"
      ]
     },
     "execution_count": 41,
     "metadata": {},
     "output_type": "execute_result"
    }
   ],
   "source": [
    "# predicting values for training data\n",
    "train=rf.predict(x_train)\n",
    "train"
   ]
  },
  {
   "cell_type": "code",
   "execution_count": 42,
   "metadata": {},
   "outputs": [
    {
     "data": {
      "image/png": "[encoded data removed]",
      "text/plain": [
       "<Figure size 432x288 with 1 Axes>"
      ]
     },
     "metadata": {
      "needs_background": "light"
     },
     "output_type": "display_data"
    }
   ],
   "source": [
    "plt.scatter(y_test,pred)\n",
    "plt.show()"
   ]
  },
  {
   "cell_type": "code",
   "execution_count": 43,
   "metadata": {},
   "outputs": [
    {
     "data": {
      "text/plain": [
       "0.992410365530052"
      ]
     },
     "execution_count": 43,
     "metadata": {},
     "output_type": "execute_result"
    }
   ],
   "source": [
    "# training accuracy\n",
    "r2_score(y_train,train)"
   ]
  },
  {
   "cell_type": "code",
   "execution_count": 44,
   "metadata": {},
   "outputs": [
    {
     "data": {
      "text/plain": [
       "0.9377651281924811"
      ]
     },
     "execution_count": 44,
     "metadata": {},
     "output_type": "execute_result"
    }
   ],
   "source": [
    "# testing accuracy\n",
    "r2_score(y_test,pred)"
   ]
  },
  {
   "cell_type": "code",
   "execution_count": 45,
   "metadata": {},
   "outputs": [],
   "source": [
    "# Hyperparameter Tunning"
   ]
  },
  {
   "cell_type": "code",
   "execution_count": 46,
   "metadata": {},
   "outputs": [],
   "source": [
    "from sklearn.model_selection import RandomizedSearchCV"
   ]
  },
  {
   "cell_type": "code",
   "execution_count": 47,
   "metadata": {},
   "outputs": [],
   "source": [
    "n_estimators=[int(x) for x in np.linspace(start=100,stop=1200,num=10)]\n",
    "max_features=['auto','sqrt']\n",
    "max_depth=[int(x) for x in np.linspace(5,50,num=6)]\n",
    "min_samples_split=[2,5,10,15,100]\n",
    "min_samples_leaf=[1,2,5,10]"
   ]
  },
  {
   "cell_type": "code",
   "execution_count": 48,
   "metadata": {},
   "outputs": [],
   "source": [
    "### written in key value pair and randomize \n",
    "random_grid={'n_estimators':n_estimators,\n",
    "             'max_features':max_features,\n",
    "             'max_depth':max_depth,\n",
    "             'min_samples_split':min_samples_split,\n",
    "             'min_samples_leaf':min_samples_leaf\n",
    "           }"
   ]
  },
  {
   "cell_type": "code",
   "execution_count": 49,
   "metadata": {},
   "outputs": [
    {
     "name": "stdout",
     "output_type": "stream",
     "text": [
      "Fitting 5 folds for each of 10 candidates, totalling 50 fits\n",
      "[CV] n_estimators=466, min_samples_split=15, min_samples_leaf=2, max_features=auto, max_depth=50 \n"
     ]
    },
    {
     "name": "stderr",
     "output_type": "stream",
     "text": [
      "[Parallel(n_jobs=1)]: Using backend SequentialBackend with 1 concurrent workers.\n"
     ]
    },
    {
     "name": "stdout",
     "output_type": "stream",
     "text": [
      "[CV]  n_estimators=466, min_samples_split=15, min_samples_leaf=2, max_features=auto, max_depth=50, total=   1.5s\n",
      "[CV] n_estimators=466, min_samples_split=15, min_samples_leaf=2, max_features=auto, max_depth=50 \n"
     ]
    },
    {
     "name": "stderr",
     "output_type": "stream",
     "text": [
      "[Parallel(n_jobs=1)]: Done   1 out of   1 | elapsed:    1.4s remaining:    0.0s\n"
     ]
    },
    {
     "name": "stdout",
     "output_type": "stream",
     "text": [
      "[CV]  n_estimators=466, min_samples_split=15, min_samples_leaf=2, max_features=auto, max_depth=50, total=   1.4s\n",
      "[CV] n_estimators=466, min_samples_split=15, min_samples_leaf=2, max_features=auto, max_depth=50 \n",
      "[CV]  n_estimators=466, min_samples_split=15, min_samples_leaf=2, max_features=auto, max_depth=50, total=   1.5s\n",
      "[CV] n_estimators=466, min_samples_split=15, min_samples_leaf=2, max_features=auto, max_depth=50 \n",
      "[CV]  n_estimators=466, min_samples_split=15, min_samples_leaf=2, max_features=auto, max_depth=50, total=   1.3s\n",
      "[CV] n_estimators=466, min_samples_split=15, min_samples_leaf=2, max_features=auto, max_depth=50 \n",
      "[CV]  n_estimators=466, min_samples_split=15, min_samples_leaf=2, max_features=auto, max_depth=50, total=   1.2s\n",
      "[CV] n_estimators=711, min_samples_split=2, min_samples_leaf=2, max_features=auto, max_depth=50 \n",
      "[CV]  n_estimators=711, min_samples_split=2, min_samples_leaf=2, max_features=auto, max_depth=50, total=   2.0s\n",
      "[CV] n_estimators=711, min_samples_split=2, min_samples_leaf=2, max_features=auto, max_depth=50 \n",
      "[CV]  n_estimators=711, min_samples_split=2, min_samples_leaf=2, max_features=auto, max_depth=50, total=   2.2s\n",
      "[CV] n_estimators=711, min_samples_split=2, min_samples_leaf=2, max_features=auto, max_depth=50 \n",
      "[CV]  n_estimators=711, min_samples_split=2, min_samples_leaf=2, max_features=auto, max_depth=50, total=   2.3s\n",
      "[CV] n_estimators=711, min_samples_split=2, min_samples_leaf=2, max_features=auto, max_depth=50 \n",
      "[CV]  n_estimators=711, min_samples_split=2, min_samples_leaf=2, max_features=auto, max_depth=50, total=   2.5s\n",
      "[CV] n_estimators=711, min_samples_split=2, min_samples_leaf=2, max_features=auto, max_depth=50 \n",
      "[CV]  n_estimators=711, min_samples_split=2, min_samples_leaf=2, max_features=auto, max_depth=50, total=   2.8s\n",
      "[CV] n_estimators=711, min_samples_split=15, min_samples_leaf=2, max_features=auto, max_depth=23 \n",
      "[CV]  n_estimators=711, min_samples_split=15, min_samples_leaf=2, max_features=auto, max_depth=23, total=   2.3s\n",
      "[CV] n_estimators=711, min_samples_split=15, min_samples_leaf=2, max_features=auto, max_depth=23 \n",
      "[CV]  n_estimators=711, min_samples_split=15, min_samples_leaf=2, max_features=auto, max_depth=23, total=   1.9s\n",
      "[CV] n_estimators=711, min_samples_split=15, min_samples_leaf=2, max_features=auto, max_depth=23 \n",
      "[CV]  n_estimators=711, min_samples_split=15, min_samples_leaf=2, max_features=auto, max_depth=23, total=   1.9s\n",
      "[CV] n_estimators=711, min_samples_split=15, min_samples_leaf=2, max_features=auto, max_depth=23 \n",
      "[CV]  n_estimators=711, min_samples_split=15, min_samples_leaf=2, max_features=auto, max_depth=23, total=   2.3s\n",
      "[CV] n_estimators=711, min_samples_split=15, min_samples_leaf=2, max_features=auto, max_depth=23 \n",
      "[CV]  n_estimators=711, min_samples_split=15, min_samples_leaf=2, max_features=auto, max_depth=23, total=   2.3s\n",
      "[CV] n_estimators=588, min_samples_split=10, min_samples_leaf=1, max_features=sqrt, max_depth=5 \n",
      "[CV]  n_estimators=588, min_samples_split=10, min_samples_leaf=1, max_features=sqrt, max_depth=5, total=   1.6s\n",
      "[CV] n_estimators=588, min_samples_split=10, min_samples_leaf=1, max_features=sqrt, max_depth=5 \n",
      "[CV]  n_estimators=588, min_samples_split=10, min_samples_leaf=1, max_features=sqrt, max_depth=5, total=   1.6s\n",
      "[CV] n_estimators=588, min_samples_split=10, min_samples_leaf=1, max_features=sqrt, max_depth=5 \n",
      "[CV]  n_estimators=588, min_samples_split=10, min_samples_leaf=1, max_features=sqrt, max_depth=5, total=   1.6s\n",
      "[CV] n_estimators=588, min_samples_split=10, min_samples_leaf=1, max_features=sqrt, max_depth=5 \n",
      "[CV]  n_estimators=588, min_samples_split=10, min_samples_leaf=1, max_features=sqrt, max_depth=5, total=   1.7s\n",
      "[CV] n_estimators=588, min_samples_split=10, min_samples_leaf=1, max_features=sqrt, max_depth=5 \n",
      "[CV]  n_estimators=588, min_samples_split=10, min_samples_leaf=1, max_features=sqrt, max_depth=5, total=   1.6s\n",
      "[CV] n_estimators=1200, min_samples_split=2, min_samples_leaf=2, max_features=auto, max_depth=32 \n",
      "[CV]  n_estimators=1200, min_samples_split=2, min_samples_leaf=2, max_features=auto, max_depth=32, total=   3.5s\n",
      "[CV] n_estimators=1200, min_samples_split=2, min_samples_leaf=2, max_features=auto, max_depth=32 \n",
      "[CV]  n_estimators=1200, min_samples_split=2, min_samples_leaf=2, max_features=auto, max_depth=32, total=   3.8s\n",
      "[CV] n_estimators=1200, min_samples_split=2, min_samples_leaf=2, max_features=auto, max_depth=32 \n",
      "[CV]  n_estimators=1200, min_samples_split=2, min_samples_leaf=2, max_features=auto, max_depth=32, total=   4.3s\n",
      "[CV] n_estimators=1200, min_samples_split=2, min_samples_leaf=2, max_features=auto, max_depth=32 \n",
      "[CV]  n_estimators=1200, min_samples_split=2, min_samples_leaf=2, max_features=auto, max_depth=32, total=   4.1s\n",
      "[CV] n_estimators=1200, min_samples_split=2, min_samples_leaf=2, max_features=auto, max_depth=32 \n",
      "[CV]  n_estimators=1200, min_samples_split=2, min_samples_leaf=2, max_features=auto, max_depth=32, total=   3.8s\n",
      "[CV] n_estimators=222, min_samples_split=5, min_samples_leaf=1, max_features=sqrt, max_depth=14 \n",
      "[CV]  n_estimators=222, min_samples_split=5, min_samples_leaf=1, max_features=sqrt, max_depth=14, total=   0.6s\n",
      "[CV] n_estimators=222, min_samples_split=5, min_samples_leaf=1, max_features=sqrt, max_depth=14 \n",
      "[CV]  n_estimators=222, min_samples_split=5, min_samples_leaf=1, max_features=sqrt, max_depth=14, total=   0.6s\n",
      "[CV] n_estimators=222, min_samples_split=5, min_samples_leaf=1, max_features=sqrt, max_depth=14 \n",
      "[CV]  n_estimators=222, min_samples_split=5, min_samples_leaf=1, max_features=sqrt, max_depth=14, total=   0.7s\n",
      "[CV] n_estimators=222, min_samples_split=5, min_samples_leaf=1, max_features=sqrt, max_depth=14 \n",
      "[CV]  n_estimators=222, min_samples_split=5, min_samples_leaf=1, max_features=sqrt, max_depth=14, total=   0.6s\n",
      "[CV] n_estimators=222, min_samples_split=5, min_samples_leaf=1, max_features=sqrt, max_depth=14 \n",
      "[CV]  n_estimators=222, min_samples_split=5, min_samples_leaf=1, max_features=sqrt, max_depth=14, total=   0.6s\n",
      "[CV] n_estimators=833, min_samples_split=10, min_samples_leaf=5, max_features=sqrt, max_depth=5 \n",
      "[CV]  n_estimators=833, min_samples_split=10, min_samples_leaf=5, max_features=sqrt, max_depth=5, total=   2.2s\n",
      "[CV] n_estimators=833, min_samples_split=10, min_samples_leaf=5, max_features=sqrt, max_depth=5 \n",
      "[CV]  n_estimators=833, min_samples_split=10, min_samples_leaf=5, max_features=sqrt, max_depth=5, total=   2.2s\n",
      "[CV] n_estimators=833, min_samples_split=10, min_samples_leaf=5, max_features=sqrt, max_depth=5 \n",
      "[CV]  n_estimators=833, min_samples_split=10, min_samples_leaf=5, max_features=sqrt, max_depth=5, total=   2.3s\n",
      "[CV] n_estimators=833, min_samples_split=10, min_samples_leaf=5, max_features=sqrt, max_depth=5 \n",
      "[CV]  n_estimators=833, min_samples_split=10, min_samples_leaf=5, max_features=sqrt, max_depth=5, total=   2.4s\n",
      "[CV] n_estimators=833, min_samples_split=10, min_samples_leaf=5, max_features=sqrt, max_depth=5 \n",
      "[CV]  n_estimators=833, min_samples_split=10, min_samples_leaf=5, max_features=sqrt, max_depth=5, total=   1.7s\n",
      "[CV] n_estimators=833, min_samples_split=5, min_samples_leaf=1, max_features=auto, max_depth=32 \n",
      "[CV]  n_estimators=833, min_samples_split=5, min_samples_leaf=1, max_features=auto, max_depth=32, total=   2.6s\n",
      "[CV] n_estimators=833, min_samples_split=5, min_samples_leaf=1, max_features=auto, max_depth=32 \n",
      "[CV]  n_estimators=833, min_samples_split=5, min_samples_leaf=1, max_features=auto, max_depth=32, total=   2.6s\n",
      "[CV] n_estimators=833, min_samples_split=5, min_samples_leaf=1, max_features=auto, max_depth=32 \n",
      "[CV]  n_estimators=833, min_samples_split=5, min_samples_leaf=1, max_features=auto, max_depth=32, total=   2.6s\n",
      "[CV] n_estimators=833, min_samples_split=5, min_samples_leaf=1, max_features=auto, max_depth=32 \n",
      "[CV]  n_estimators=833, min_samples_split=5, min_samples_leaf=1, max_features=auto, max_depth=32, total=   2.6s\n",
      "[CV] n_estimators=833, min_samples_split=5, min_samples_leaf=1, max_features=auto, max_depth=32 \n",
      "[CV]  n_estimators=833, min_samples_split=5, min_samples_leaf=1, max_features=auto, max_depth=32, total=   2.6s\n",
      "[CV] n_estimators=1200, min_samples_split=100, min_samples_leaf=5, max_features=sqrt, max_depth=23 \n",
      "[CV]  n_estimators=1200, min_samples_split=100, min_samples_leaf=5, max_features=sqrt, max_depth=23, total=   2.8s\n",
      "[CV] n_estimators=1200, min_samples_split=100, min_samples_leaf=5, max_features=sqrt, max_depth=23 \n",
      "[CV]  n_estimators=1200, min_samples_split=100, min_samples_leaf=5, max_features=sqrt, max_depth=23, total=   3.0s\n",
      "[CV] n_estimators=1200, min_samples_split=100, min_samples_leaf=5, max_features=sqrt, max_depth=23 \n",
      "[CV]  n_estimators=1200, min_samples_split=100, min_samples_leaf=5, max_features=sqrt, max_depth=23, total=   3.4s\n",
      "[CV] n_estimators=1200, min_samples_split=100, min_samples_leaf=5, max_features=sqrt, max_depth=23 \n",
      "[CV]  n_estimators=1200, min_samples_split=100, min_samples_leaf=5, max_features=sqrt, max_depth=23, total=   3.1s\n",
      "[CV] n_estimators=1200, min_samples_split=100, min_samples_leaf=5, max_features=sqrt, max_depth=23 \n",
      "[CV]  n_estimators=1200, min_samples_split=100, min_samples_leaf=5, max_features=sqrt, max_depth=23, total=   3.1s\n",
      "[CV] n_estimators=1077, min_samples_split=10, min_samples_leaf=1, max_features=sqrt, max_depth=14 \n",
      "[CV]  n_estimators=1077, min_samples_split=10, min_samples_leaf=1, max_features=sqrt, max_depth=14, total=   3.0s\n",
      "[CV] n_estimators=1077, min_samples_split=10, min_samples_leaf=1, max_features=sqrt, max_depth=14 \n",
      "[CV]  n_estimators=1077, min_samples_split=10, min_samples_leaf=1, max_features=sqrt, max_depth=14, total=   2.8s\n",
      "[CV] n_estimators=1077, min_samples_split=10, min_samples_leaf=1, max_features=sqrt, max_depth=14 \n",
      "[CV]  n_estimators=1077, min_samples_split=10, min_samples_leaf=1, max_features=sqrt, max_depth=14, total=   2.9s\n",
      "[CV] n_estimators=1077, min_samples_split=10, min_samples_leaf=1, max_features=sqrt, max_depth=14 \n",
      "[CV]  n_estimators=1077, min_samples_split=10, min_samples_leaf=1, max_features=sqrt, max_depth=14, total=   2.9s\n",
      "[CV] n_estimators=1077, min_samples_split=10, min_samples_leaf=1, max_features=sqrt, max_depth=14 \n",
      "[CV]  n_estimators=1077, min_samples_split=10, min_samples_leaf=1, max_features=sqrt, max_depth=14, total=   3.1s\n"
     ]
    },
    {
     "name": "stderr",
     "output_type": "stream",
     "text": [
      "[Parallel(n_jobs=1)]: Done  50 out of  50 | elapsed:  1.9min finished\n"
     ]
    },
    {
     "data": {
      "text/plain": [
       "RandomizedSearchCV(cv=5, error_score=nan,\n",
       "                   estimator=RandomForestRegressor(bootstrap=True,\n",
       "                                                   ccp_alpha=0.0,\n",
       "                                                   criterion='mse',\n",
       "                                                   max_depth=None,\n",
       "                                                   max_features='auto',\n",
       "                                                   max_leaf_nodes=None,\n",
       "                                                   max_samples=None,\n",
       "                                                   min_impurity_decrease=0.0,\n",
       "                                                   min_impurity_split=None,\n",
       "                                                   min_samples_leaf=1,\n",
       "                                                   min_samples_split=2,\n",
       "                                                   min_weight_fraction_leaf=0.0,\n",
       "                                                   n_estimators=100,\n",
       "                                                   n_jobs=None, oob_score=Fals...\n",
       "                   iid='deprecated', n_iter=10, n_jobs=1,\n",
       "                   param_distributions={'max_depth': [5, 14, 23, 32, 41, 50],\n",
       "                                        'max_features': ['auto', 'sqrt'],\n",
       "                                        'min_samples_leaf': [1, 2, 5, 10],\n",
       "                                        'min_samples_split': [2, 5, 10, 15,\n",
       "                                                              100],\n",
       "                                        'n_estimators': [100, 222, 344, 466,\n",
       "                                                         588, 711, 833, 955,\n",
       "                                                         1077, 1200]},\n",
       "                   pre_dispatch='2*n_jobs', random_state=None, refit=True,\n",
       "                   return_train_score=False, scoring='neg_mean_squared_error',\n",
       "                   verbose=2)"
      ]
     },
     "execution_count": 49,
     "metadata": {},
     "output_type": "execute_result"
    }
   ],
   "source": [
    "cv=RandomizedSearchCV(estimator=rf,param_distributions=random_grid,scoring='neg_mean_squared_error',n_iter=10,cv=5,verbose=2,n_jobs=1)\n",
    "cv.fit(x_train,y_train)"
   ]
  },
  {
   "cell_type": "code",
   "execution_count": 50,
   "metadata": {},
   "outputs": [
    {
     "data": {
      "text/plain": [
       "{'n_estimators': 833,\n",
       " 'min_samples_split': 5,\n",
       " 'min_samples_leaf': 1,\n",
       " 'max_features': 'auto',\n",
       " 'max_depth': 32}"
      ]
     },
     "execution_count": 50,
     "metadata": {},
     "output_type": "execute_result"
    }
   ],
   "source": [
    "cv.best_params_"
   ]
  },
  {
   "cell_type": "code",
   "execution_count": 80,
   "metadata": {},
   "outputs": [],
   "source": [
    "# applying best parameters to get increase in accuracy\n",
    "randf=RandomForestRegressor(n_estimators=833,min_samples_split=5,min_samples_leaf=1,max_features='auto',max_depth=32)\n",
    "randf.fit(x_train,y_train)\n",
    "y_pred=randf.predict(x_test)\n",
    "x_pred=randf.predict(x_train)"
   ]
  },
  {
   "cell_type": "code",
   "execution_count": 81,
   "metadata": {},
   "outputs": [
    {
     "data": {
      "text/plain": [
       "array([ 8.08767535,  2.66443248,  6.56417459,  0.58041118,  2.92663449,\n",
       "        2.42608248,  0.7410531 ,  2.78958459,  0.45749432,  4.02249742,\n",
       "        7.94689361,  0.1739354 ,  6.95682848,  2.96869871,  3.08790461,\n",
       "        4.3558545 ,  3.5607832 ,  4.91899357,  6.09943957,  2.61608248,\n",
       "        4.5370514 ,  4.70991185,  4.7449126 ,  1.27242169,  0.56072432,\n",
       "        2.87710459,  4.36763283,  0.46153192,  3.34238728,  1.15652794,\n",
       "        5.26530307,  5.43967138,  1.15608676,  2.38890911,  5.28288093,\n",
       "        3.96438216,  4.22285851,  1.09737326, 15.81654271, 17.84123533,\n",
       "        4.76052765,  5.28864349,  7.03020596,  7.73727632,  3.67878936,\n",
       "        1.10880567,  0.39892954,  1.06167921,  0.40553358,  3.33642965,\n",
       "        0.74536586,  7.91853727,  0.36789266,  5.47441563,  7.85296884,\n",
       "        1.40838747,  6.8332526 ,  6.48053784,  0.46025844,  0.74095946])"
      ]
     },
     "execution_count": 81,
     "metadata": {},
     "output_type": "execute_result"
    }
   ],
   "source": [
    "y_pred"
   ]
  },
  {
   "cell_type": "code",
   "execution_count": 82,
   "metadata": {},
   "outputs": [
    {
     "data": {
      "text/plain": [
       "array([ 6.97134121,  4.34467813,  8.4954856 ,  0.41242709,  5.83880853,\n",
       "        2.77340221,  0.15758614,  0.4133936 , 17.48045341,  8.28161577,\n",
       "        4.20669867,  4.90464477,  1.14489894,  4.70689257,  5.77530411,\n",
       "        0.38605107,  6.44124844, 10.40366305,  2.46728368,  0.2367107 ,\n",
       "        8.68981023,  4.71732016,  1.16520044,  2.97670987,  5.79720374,\n",
       "        0.58107463,  5.4914687 ,  2.65501212,  4.5515701 ,  0.62597495,\n",
       "       15.88642563,  4.75506306,  0.5868777 ,  0.35119016,  0.26528674,\n",
       "        1.56967255,  7.63850921,  2.9689238 ,  0.26102413,  5.92692107,\n",
       "        1.69998837,  8.80378833,  5.89900536,  0.4810807 ,  1.10188123,\n",
       "       10.05017566, 11.59366319,  1.17008077,  6.88139652,  0.56425543,\n",
       "        2.22868881,  0.23214285, 22.24924619,  0.42439203,  7.02244946,\n",
       "        4.24278402,  4.13704307,  4.82080338,  4.22548143,  5.03264333,\n",
       "        0.64871273,  4.87277019, 29.30824296,  2.96303989,  2.54079033,\n",
       "        0.54587753,  6.53218991,  5.67668871,  5.20321361,  0.61217892,\n",
       "        2.80566866,  5.04361582,  1.72122078,  1.18989471,  3.2365277 ,\n",
       "        0.75034374,  0.7307103 ,  0.62462149,  8.89578546,  2.62795648,\n",
       "        5.64300905,  4.18118253,  9.31583038,  4.35497701,  8.08390897,\n",
       "        2.79294279,  8.03891565,  8.57049556,  9.85371857,  0.46947946,\n",
       "        4.22068336,  2.93301978,  0.7001469 ,  5.66436091, 13.79758962,\n",
       "        8.68981023,  5.9556898 ,  0.74782315,  0.44230016,  5.84515592,\n",
       "        4.43021816,  4.19104107,  5.70262184,  5.25703038,  0.36216693,\n",
       "        2.28022053,  7.01272354,  5.41420991,  5.31400902,  9.86593877,\n",
       "        9.79018407,  3.36543917, 10.35393347,  4.52831242,  8.77261251,\n",
       "        8.85393727,  1.03026133,  0.52773951,  1.00762996,  5.10575765,\n",
       "       21.17220217,  2.59731747,  0.70136346,  0.73294126,  4.56111282,\n",
       "        1.46958364,  1.117845  ,  8.81195652, 21.42684446,  2.32197776,\n",
       "        2.73365429,  5.82581763,  4.98830741,  3.62821765,  0.20274707,\n",
       "        3.98113305,  8.35956681,  0.26991745,  7.07525474,  7.91853727,\n",
       "        0.39283085,  3.73621992,  3.41631398, 22.08217076,  6.45353795,\n",
       "        0.56787687,  0.47012084,  2.32615336,  0.54096727,  5.05504843,\n",
       "        1.1662181 ,  8.84806559,  6.11344959,  0.57236331,  1.03894805,\n",
       "        0.22542799,  5.28247225, 10.97114098,  6.57154042,  0.4589684 ,\n",
       "        0.47799814,  3.34064995,  3.00010332,  0.27445996,  0.46430015,\n",
       "       10.40991114,  5.28872617,  0.4444809 ,  1.55163162,  3.25190649,\n",
       "        3.74873159,  1.29227929,  0.68655559,  0.46863997, 15.61476246,\n",
       "        3.61138046,  0.28492873,  1.18923285,  3.67832039,  0.28457234,\n",
       "        0.18635311,  9.48316211, 17.55710839,  0.48275365, 28.70125527,\n",
       "        3.00332146,  1.04514039,  5.63067634,  0.28879125, 11.64980984,\n",
       "        5.29965132,  5.47464479,  7.17510467,  0.24062155,  0.19607712,\n",
       "        0.16251745,  9.23954911,  2.4880052 , 11.0513325 , 22.08217076,\n",
       "       20.73838596,  0.45749432,  2.7691377 ,  1.40237937,  4.99478819,\n",
       "        5.46595914,  0.19133908,  5.9839638 , 10.35212668,  0.51689271,\n",
       "        0.16579646,  4.32945412,  4.63495686,  7.22879462,  0.37199557,\n",
       "       19.18717278,  3.01391497,  5.0807786 ,  0.46110486, 15.34178588,\n",
       "        6.05286616,  6.18222389,  5.36638898,  0.55263656,  0.90162369,\n",
       "        0.44495465,  0.25347563, 10.81723901,  0.54844422,  3.93696789,\n",
       "        0.98156923,  3.9527949 ,  2.99586236,  3.51512079,  4.10277816,\n",
       "        6.62444274,  1.58798311,  5.76839452,  0.37963283,  7.14531945,\n",
       "        3.48008573])"
      ]
     },
     "execution_count": 82,
     "metadata": {},
     "output_type": "execute_result"
    }
   ],
   "source": [
    "x_pred"
   ]
  },
  {
   "cell_type": "code",
   "execution_count": 83,
   "metadata": {},
   "outputs": [
    {
     "data": {
      "text/plain": [
       "0.9847510203614768"
      ]
     },
     "execution_count": 83,
     "metadata": {},
     "output_type": "execute_result"
    }
   ],
   "source": [
    "# after hyperparameter tunning training accuracy\n",
    "r2_score(y_train,x_pred)"
   ]
  },
  {
   "cell_type": "code",
   "execution_count": 84,
   "metadata": {},
   "outputs": [
    {
     "data": {
      "text/plain": [
       "0.9282256855877915"
      ]
     },
     "execution_count": 84,
     "metadata": {},
     "output_type": "execute_result"
    }
   ],
   "source": [
    "# after hyperparameter tunning testing accuracy\n",
    "r2_score(y_test,y_pred)"
   ]
  },
  {
   "cell_type": "code",
   "execution_count": 85,
   "metadata": {},
   "outputs": [
    {
     "data": {
      "image/png": "[encoded data removed]",
      "text/plain": [
       "<Figure size 432x288 with 1 Axes>"
      ]
     },
     "metadata": {
      "needs_background": "light"
     },
     "output_type": "display_data"
    }
   ],
   "source": [
    "plt.scatter(y_test,y_pred)\n",
    "plt.show()"
   ]
  },
  {
   "cell_type": "code",
   "execution_count": 86,
   "metadata": {},
   "outputs": [
    {
     "name": "stdout",
     "output_type": "stream",
     "text": [
      "MAE: 0.5554145467699791\n",
      "MSE: 0.8398040664219365\n",
      "RMSE: 0.9164082422271945\n"
     ]
    }
   ],
   "source": [
    "# after hyperparameter tunning the errors\n",
    "print('MAE:', mean_absolute_error(y_test, y_pred))\n",
    "print('MSE:', mean_squared_error(y_test, y_pred))\n",
    "print('RMSE:', np.sqrt(mean_squared_error(y_test, y_pred))) "
   ]
  },
  {
   "cell_type": "code",
   "execution_count": 88,
   "metadata": {},
   "outputs": [],
   "source": [
    "import pickle"
   ]
  },
  {
   "cell_type": "code",
   "execution_count": 89,
   "metadata": {},
   "outputs": [],
   "source": [
    "pickle.dump(randf,open('car_price.pkl','wb'))"
   ]
  },
  {
   "cell_type": "code",
   "execution_count": null,
   "metadata": {},
   "outputs": [],
   "source": []
  }
 ],
 "metadata": {
  "kernelspec": {
   "display_name": "Python 3",
   "language": "python",
   "name": "python3"
  },
  "language_info": {
   "codemirror_mode": {
    "name": "ipython",
    "version": 3
   },
   "file_extension": ".py",
   "mimetype": "text/x-python",
   "name": "python",
   "nbconvert_exporter": "python",
   "pygments_lexer": "ipython3",
   "version": "3.7.6"
  }
 },
 "nbformat": 4,
 "nbformat_minor": 4
}
